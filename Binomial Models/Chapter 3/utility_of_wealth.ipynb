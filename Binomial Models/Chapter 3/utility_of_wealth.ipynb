{
 "cells": [
  {
   "cell_type": "markdown",
   "metadata": {},
   "source": [
    "# Utility of Wealth"
   ]
  },
  {
   "cell_type": "markdown",
   "metadata": {},
   "source": [
    "## Setup"
   ]
  },
  {
   "cell_type": "code",
   "execution_count": 1,
   "metadata": {},
   "outputs": [
    {
     "name": "stdout",
     "output_type": "stream",
     "text": [
      "Looking in indexes: https://pypi.org/simple, https://pypi.ngc.nvidia.com\n",
      "Requirement already satisfied: numpy in c:\\users\\spare\\appdata\\local\\programs\\python\\python312\\lib\\site-packages (1.26.4)\n",
      "Requirement already satisfied: sympy in c:\\users\\spare\\appdata\\local\\programs\\python\\python312\\lib\\site-packages (1.13.0)\n",
      "Requirement already satisfied: mpmath<1.4,>=1.1.0 in c:\\users\\spare\\appdata\\local\\programs\\python\\python312\\lib\\site-packages (from sympy) (1.3.0)\n",
      "Note: you may need to restart the kernel to use updated packages.\n"
     ]
    }
   ],
   "source": [
    "%pip install numpy sympy"
   ]
  },
  {
   "cell_type": "markdown",
   "metadata": {},
   "source": [
    "## Defining Variables and Formulas"
   ]
  },
  {
   "cell_type": "markdown",
   "metadata": {},
   "source": [
    "We will define a binomial model with 5 time periods. We will call the last time period $N$ and in the code will define $N = 5$."
   ]
  },
  {
   "cell_type": "code",
   "execution_count": 2,
   "metadata": {},
   "outputs": [],
   "source": [
    "N = 5"
   ]
  },
  {
   "cell_type": "markdown",
   "metadata": {},
   "source": [
    "We will define the initial stock price as $S_0 = 4$."
   ]
  },
  {
   "cell_type": "code",
   "execution_count": 3,
   "metadata": {},
   "outputs": [],
   "source": [
    "S_0 = 4"
   ]
  },
  {
   "cell_type": "markdown",
   "metadata": {},
   "source": [
    "We will define the initial wealth as $X_0 = 100$."
   ]
  },
  {
   "cell_type": "code",
   "execution_count": 4,
   "metadata": {},
   "outputs": [],
   "source": [
    "X_0 = 100"
   ]
  },
  {
   "cell_type": "markdown",
   "metadata": {},
   "source": [
    "The changes in stock price for a binomial model are determined by an imaginary coin flip which results in $H$ or $T$. If the result at time $n$ which we will call $\\omega_n$ is $H$ the stock price at time $n-1$ will be multiplied by the up factor $u$ and if $\\omega_n = T$ it will be muliplied by the down factor $d$. So, if $\\omega_n = H$ then $S_n = uS_{n-1}$ and if $\\omega_n = T$ then $S_n = dS_{n-1}$. We will define $u = 2$ and $d = \\frac{1}{2}$."
   ]
  },
  {
   "cell_type": "code",
   "execution_count": 5,
   "metadata": {},
   "outputs": [],
   "source": [
    "u = 2\n",
    "d = 1/2"
   ]
  },
  {
   "cell_type": "markdown",
   "metadata": {},
   "source": [
    "We will call the probability of $H$ as $p$ and the probability of $T$ as $q$. These will be defined as $p = \\frac{2}{3}$ and $q = \\frac{1}{3}$."
   ]
  },
  {
   "cell_type": "code",
   "execution_count": 6,
   "metadata": {},
   "outputs": [],
   "source": [
    "p = 2/3\n",
    "q = 1/3"
   ]
  },
  {
   "cell_type": "markdown",
   "metadata": {},
   "source": [
    "Interest which is assumed to be equal for borrowing and holding money is defined as $r = \\frac{1}{4}$."
   ]
  },
  {
   "cell_type": "code",
   "execution_count": 7,
   "metadata": {},
   "outputs": [],
   "source": [
    "r = 1/4"
   ]
  },
  {
   "cell_type": "markdown",
   "metadata": {},
   "source": [
    "Risk-neutral probabilities of $H$ and $T$ which are called $\\tilde{p}$ and $\\tilde{q}$ respectively will be calculated using the $u$, $d$ and $r$ values. The functions `risk_neutral_p` and `risk_neutral_q` are defined below."
   ]
  },
  {
   "cell_type": "code",
   "execution_count": 8,
   "metadata": {},
   "outputs": [],
   "source": [
    "def risk_neutral_p(u, d, r):\n",
    "    return (1 + r - d) / (u - d)\n",
    "\n",
    "def risk_neutral_q(u, d, r):\n",
    "    return (u - 1 - r) / (u - d)\n",
    "\n",
    "rn_p = risk_neutral_p(u, d, r)\n",
    "rn_q = risk_neutral_p(u, d, r)"
   ]
  },
  {
   "cell_type": "markdown",
   "metadata": {},
   "source": [
    "The probability of event $\\omega$ based on regular probabilities will be called $\\mathbb{P}(\\omega)$ and based on risk-neutral probabilities it will be called $\\tilde{\\mathbb{P}}(\\omega)$. $\\textrm{The Radon-Nikod}\\acute{\\textrm{y}} \\textrm{m derivative of } \\tilde{\\mathbb{P}} \\textrm{ with respect to } \\mathbb{P}$ will thus be defined as $Z(\\omega) = \\frac{\\tilde{\\mathbb{P}}(\\omega)}{\\mathbb{P}(\\omega)}$."
   ]
  },
  {
   "cell_type": "code",
   "execution_count": 9,
   "metadata": {},
   "outputs": [],
   "source": [
    "def calc_Z(rn_P, P):\n",
    "    return rn_P / P"
   ]
  },
  {
   "cell_type": "markdown",
   "metadata": {},
   "source": [
    "The state price density corresponding to $\\omega$ at time $N$ will subseuqntly be defined as $\\zeta(\\omega) = \\frac{Z(\\omega)}{(1+r)^N}$."
   ]
  },
  {
   "cell_type": "code",
   "execution_count": 10,
   "metadata": {},
   "outputs": [],
   "source": [
    "def state_price_density(n, z, r):\n",
    "    return z / ((1+r)**n)"
   ]
  },
  {
   "cell_type": "markdown",
   "metadata": {},
   "source": [
    "## Utility"
   ]
  },
  {
   "cell_type": "markdown",
   "metadata": {},
   "source": [
    "A utility function is used to capture the tradeoff between risk and return. The utility function $U$ must be a strictly concave down nondecreasing function which can take the value $-\\infty$ but not the value $+\\infty$. A common utility function and what we will be using for this model is $\\ln(x)$. So $U(x) = \\ln(x)$ and $U'(x) = \\frac{1}{x}$ and the inverse of the derivative $I$ will be defuined as $I(y) = \\frac{1}{y}$."
   ]
  },
  {
   "cell_type": "code",
   "execution_count": 11,
   "metadata": {},
   "outputs": [],
   "source": [
    "import numpy as np\n",
    "\n",
    "def U(x):\n",
    "    return np.log(x)\n",
    "\n",
    "def I(y):\n",
    "    return 1/y"
   ]
  },
  {
   "cell_type": "markdown",
   "metadata": {},
   "source": [
    "The goal of this model will be to find an adapted portfolio process $\\:\\Delta_0,\\:\\Delta_1,\\:.\\:.\\:.\\:,\\Delta_{N - 1}\\:$, with $\\Delta_n$ being the amount of stock you should own at time $n$, that maximizes $\\:\\mathbb{E}U(X_N)$, the expected utility of the wealth at time $N$."
   ]
  },
  {
   "cell_type": "markdown",
   "metadata": {},
   "source": [
    "## Modelling"
   ]
  },
  {
   "cell_type": "markdown",
   "metadata": {},
   "source": [
    "I will start by creating a dictionary of all the possible stock prices over $5$ time periods. Next, I will create dictionaries of all the risk-neutral and regular probabilities of all the possible $H$ and $T$ combinations of length $N$. I will then get a dictionary of the $Z$ values. And, then I will make a dictionary of $\\zeta$ values."
   ]
  },
  {
   "cell_type": "code",
   "execution_count": 12,
   "metadata": {},
   "outputs": [],
   "source": [
    "from itertools import permutations\n",
    "\n",
    "def get_combinations(n):\n",
    "    combinations = []\n",
    "    for i in range(1, n+1):\n",
    "        for j in range(i + 1):\n",
    "            combo = 'H' * j + 'T' * (i - j)\n",
    "            combinations += list(set([''.join(p) for p in permutations(combo)]))\n",
    "    return combinations\n",
    "\n",
    "all_combinations = get_combinations(5)\n",
    "\n",
    "def get_S(combinations, S_0, u, d):\n",
    "    price_dict = {}\n",
    "    for combo in combinations:\n",
    "        new_price = S_0\n",
    "        for outcome in combo:\n",
    "            if outcome == 'H':\n",
    "                new_price *= u\n",
    "            elif outcome == 'T':\n",
    "                new_price *= d\n",
    "        price_dict[combo] = new_price\n",
    "    return price_dict\n",
    "\n",
    "all_prices = get_S(all_combinations, S_0, u, d)\n",
    "\n",
    "def get_P(combinations, p , q):\n",
    "    prob_dict = {}\n",
    "    for combo in combinations:\n",
    "        prob = 1\n",
    "        for outcome in combo:\n",
    "            if outcome == 'H':\n",
    "                prob *= p\n",
    "            elif outcome == 'T':\n",
    "                prob  *= q\n",
    "        prob_dict[combo] = prob\n",
    "    return prob_dict\n",
    "\n",
    "P = get_P(all_combinations, p, q)\n",
    "rn_P = get_P(all_combinations, rn_p, rn_q)\n",
    "\n",
    "def get_Z(risk_neutral, normal):\n",
    "    Z_dict = {}\n",
    "    for key in risk_neutral.keys():\n",
    "        Z_dict[key] = calc_Z(risk_neutral[key], normal[key])\n",
    "    return Z_dict\n",
    "\n",
    "Z = get_Z(rn_P, P)\n",
    "\n",
    "def get_SPD(z_dict, r):\n",
    "    spd_dict = {}\n",
    "    for key, value in z_dict.items():\n",
    "        spd_dict[key] = state_price_density(len(key), value, r)\n",
    "    return spd_dict\n",
    "\n",
    "SPD = get_SPD(Z, r)"
   ]
  },
  {
   "cell_type": "markdown",
   "metadata": {},
   "source": [
    "$$ \\textrm{For this problem we will be using Lagragian Optimization. First, we will have to define each possible portfolio value as a dummy variable.} $$\n",
    "$$ x_1 = X_5(TTTTT)\\;\\;\\;\\;x_2 = X_5(TTTHT)\\;\\;\\;\\;x_3 = X_5(TTHTT)\\;\\;\\;\\;x_4 = X_5(THTTT)\\;\\;\\;\\;x_5 = X_5(HTTTT)\\;\\;\\;\\;x_6 = X_5(TTTTH)\\;\\;\\;\\;x_7 = X_5(THTTH)\\;\\;\\;\\;x_8 = X_5(THTHT)$$\n",
    "$$ x_9 = X_5(THHTT)\\;\\;\\;\\;x_{10} = X_5(HTTHT)\\;\\;\\;\\;x_{11} = X_5(TTHTH)\\;\\;\\;\\;x_{12} = X_5(HTTTH)\\;\\;\\;\\;x_{13} = X_5(HHTTT)\\;\\;\\;\\;x_{14} = X_5(TTHHT)\\;\\;\\;\\;x_{15} = X_5(TTTHH)\\;\\;\\;\\;x_{16} = X_5(HTHTT)$$\n",
    "$$ x_{17} = X_5(HTTHH)\\;\\;\\;\\;x_{18} = X_5(TTHHH)\\;\\;\\;\\;x_{19} = X_5(HHHTT)\\;\\;\\;\\;x_{20} = X_5(HHTTH)\\;\\;\\;\\;x_{21} = X_5(THTHH)\\;\\;\\;\\;x_{22} = X_5(HHTHT)\\;\\;\\;\\;x_{23} = X_5(THHTH)\\;\\;\\;\\;x_{24} = X_5(HTHTH)$$\n",
    "$$ x_{25} = X_5(THHHT)\\;\\;\\;\\;x_{26} = X_5(HTHHT)\\;\\;\\;\\;x_{27} = X_5(HHHHT)\\;\\;\\;\\;x_{28} = X_5(HHHTH)\\;\\;\\;\\;x_{29} = X_5(THHHH)\\;\\;\\;\\;x_{30} = X_5(HHTHH)\\;\\;\\;\\;x_{31} = X_5(HTHHH)\\;\\;\\;\\;x_{32} = X_5(HHHHH)$$\n",
    "$$ \\textrm{We will also define the normal probabilities of the } H \\textrm{ and } T \\textrm{ combiantions and the } \\zeta_5(\\omega_1, \\omega_2, \\:.\\:.\\:.\\:, \\omega_5) \\textrm{ values as corresponding dummy variables } p_m \\textrm{ and } \\zeta_m \\textrm{.}$$\n",
    "$$ \\textrm{As said above for this model we define } U(x) = \\ln x \\textrm{ and our goal is to maximize } \\mathbb{E}U(X_N)$$\n",
    "$$ \\textrm{Over } N \\textrm{ time periods the number of combinations can be defined as } M = 2^N \\textrm{ and in our case } M = 2^5 = 32 \\textrm{. So, the problem can be redefined as maximizing } \\;\\displaystyle\\sum_{m=1}^{32} p_mU(x_m)\\; \\textrm{ subject to } \\;\\displaystyle\\sum_{m=1}^{32} p_m\\zeta_mx_m = X_0 = 100\\textrm{.} $$\n",
    "$$ \\textrm{Consequantly we can write out the Lagragian for this problem as } \\;L = \\displaystyle\\sum_{m=1}^{32} p_mU(x_m) - \\lambda(\\,\\displaystyle\\sum_{m=1}^{32} p_m\\zeta_mx_m - 100)$$\n",
    "$$ \\textrm{The Lagrange mulitplier equations can then be written as } \\frac{\\partial}{\\partial x_m}L = p_mU'(x_m) - \\lambda p_m\\zeta_m = 0$$\n",
    "$$ \\textrm{This can then be simplified to } U'(x_m) = \\lambda \\zeta_m $$\n",
    "$$ \\textrm{We can then apply the inverse of } U' \\textrm{ to both sides in order to isolate } x_m \\textrm{ calling the inverse } I \\textrm{ and from that we obtain } x_m = I(\\lambda \\zeta_m) $$\n",
    "$$ \\textrm{Next, substituting back in for the dummy variables we can write this as } X_5 = I(\\lambda \\zeta_5) $$\n",
    "$$ \\textrm{And, using our previous definition of } I(y) = \\frac{1}{y} \\textrm{ this can again be rewritten as } X_5 = \\frac{1}{\\lambda \\zeta_5}. \\textrm{ This also could be applied over any general value in } n = 1, 2, \\:.\\:.\\:.\\:, N \\textrm{ as } X_n = \\frac{1}{\\lambda \\zeta_n}$$\n",
    "$$ \\textrm{Substituting this into the formula } \\mathbb{E}\\zeta_N X_N = X_0 \\textrm{ we obtain } \\mathbb{E}[\\frac{\\zeta_5}{\\lambda \\zeta_5}] = \\mathbb{E}[\\frac{1}{\\lambda}] = \\frac{1}{\\lambda} = X_0 = 100 \\;\\textrm{ so }\\; \\lambda = \\frac{1}{X_0} = \\frac{1}{100} $$\n",
    "$$ \\textrm{Below I will use the fomrula } X_n = \\frac{1}{\\lambda \\zeta_n} \\textrm{ to calculate the wealth at every point.}$$"
   ]
  },
  {
   "cell_type": "code",
   "execution_count": 13,
   "metadata": {},
   "outputs": [],
   "source": [
    "lmbda = 1/X_0\n",
    "\n",
    "def calc_weath(inverse, lmbda, spd):\n",
    "    return inverse(lmbda * spd)\n",
    "\n",
    "def get_wealth(inverse, lmbda, spd_dict):\n",
    "    wealth_dict = {}\n",
    "    for key, value in spd_dict.items():\n",
    "        wealth_dict[key] = calc_weath(inverse, lmbda, value)\n",
    "    return wealth_dict\n",
    "        \n",
    "wealth = get_wealth(I, lmbda, SPD)"
   ]
  },
  {
   "cell_type": "markdown",
   "metadata": {},
   "source": [
    "$$ \\textrm{Lastly, to calculate the adapted portfolio processes we can use the recursive formula } \\Delta_{n - 1}(\\omega_1, \\omega_2, \\:.\\:.\\:.\\:, \\omega_{n-1}) = \\frac{X_n(\\omega_1, \\omega_2, \\:.\\:.\\:.\\:, \\omega_{n-1},H) - X_n(\\omega_1, \\omega_2, \\:.\\:.\\:.\\:, \\omega_{n-1},T)}{S_n(\\omega_1, \\omega_2, \\:.\\:.\\:.\\:, \\omega_{n-1},H) - S_n(\\omega_1, \\omega_2, \\:.\\:.\\:.\\:, \\omega_{n-1},T)}$$"
   ]
  },
  {
   "cell_type": "code",
   "execution_count": 14,
   "metadata": {},
   "outputs": [
    {
     "data": {
      "text/plain": [
       "{'0': 13.888888888888888,\n",
       " 'T': 23.14814814814815,\n",
       " 'H': 11.574074074074074,\n",
       " 'TT': 38.58024691358025,\n",
       " 'HT': 19.290123456790123,\n",
       " 'TH': 19.290123456790123,\n",
       " 'HH': 9.645061728395062,\n",
       " 'TTT': 64.30041152263374,\n",
       " 'TTH': 32.15020576131687,\n",
       " 'THT': 32.15020576131687,\n",
       " 'HTT': 32.15020576131687,\n",
       " 'HHT': 16.075102880658434,\n",
       " 'THH': 16.075102880658434,\n",
       " 'HTH': 16.075102880658434,\n",
       " 'HHH': 8.037551440329217,\n",
       " 'TTTT': 107.16735253772289,\n",
       " 'THTT': 53.583676268861446,\n",
       " 'HTTT': 53.583676268861446,\n",
       " 'TTTH': 53.583676268861446,\n",
       " 'TTHT': 53.583676268861446,\n",
       " 'HTTH': 26.791838134430723,\n",
       " 'HHTT': 26.791838134430723,\n",
       " 'THHT': 26.791838134430723,\n",
       " 'HTHT': 26.791838134430723,\n",
       " 'TTHH': 26.791838134430723,\n",
       " 'THTH': 26.791838134430723,\n",
       " 'HTHH': 13.395919067215361,\n",
       " 'HHHT': 13.395919067215361,\n",
       " 'HHTH': 13.395919067215361,\n",
       " 'THHH': 13.395919067215361,\n",
       " 'HHHH': 6.697959533607681}"
      ]
     },
     "execution_count": 14,
     "metadata": {},
     "output_type": "execute_result"
    }
   ],
   "source": [
    "def calc_delta(x_H, x_T, s_H, s_T):\n",
    "    return (x_H - x_T) / (s_H - s_T)\n",
    "\n",
    "def get_optimal_process(price_dict, wealth_dict):\n",
    "    process_dict = {}\n",
    "    process_dict['0'] = calc_delta(wealth_dict['H'], wealth_dict['T'], price_dict['H'], price_dict['T'])\n",
    "    for key in price_dict.keys():\n",
    "        if len(key) >= 5:\n",
    "            return process_dict\n",
    "        process_dict[key] = calc_delta(wealth_dict[key + 'H'], wealth_dict[key + 'T'], price_dict[key + 'H'], price_dict[key + 'T'])\n",
    "\n",
    "processes = get_optimal_process(all_prices, wealth)\n",
    "processes"
   ]
  }
 ],
 "metadata": {
  "kernelspec": {
   "display_name": "Python 3",
   "language": "python",
   "name": "python3"
  },
  "language_info": {
   "codemirror_mode": {
    "name": "ipython",
    "version": 3
   },
   "file_extension": ".py",
   "mimetype": "text/x-python",
   "name": "python",
   "nbconvert_exporter": "python",
   "pygments_lexer": "ipython3",
   "version": "3.12.4"
  }
 },
 "nbformat": 4,
 "nbformat_minor": 2
}

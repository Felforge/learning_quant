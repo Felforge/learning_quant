{
 "cells": [
  {
   "cell_type": "markdown",
   "metadata": {},
   "source": [
    "# Utility of Wealth"
   ]
  },
  {
   "cell_type": "markdown",
   "metadata": {},
   "source": [
    "## Setup"
   ]
  },
  {
   "cell_type": "code",
   "execution_count": 1,
   "metadata": {},
   "outputs": [
    {
     "name": "stdout",
     "output_type": "stream",
     "text": [
      "Looking in indexes: https://pypi.org/simple, https://pypi.ngc.nvidia.com\n",
      "Requirement already satisfied: numpy in c:\\users\\spare\\appdata\\local\\programs\\python\\python312\\lib\\site-packages (1.26.4)\n",
      "Requirement already satisfied: sympy in c:\\users\\spare\\appdata\\local\\programs\\python\\python312\\lib\\site-packages (1.13.0)\n",
      "Requirement already satisfied: mpmath<1.4,>=1.1.0 in c:\\users\\spare\\appdata\\local\\programs\\python\\python312\\lib\\site-packages (from sympy) (1.3.0)\n",
      "Note: you may need to restart the kernel to use updated packages.\n"
     ]
    }
   ],
   "source": [
    "%pip install numpy sympy"
   ]
  },
  {
   "cell_type": "markdown",
   "metadata": {},
   "source": [
    "## Defining Variables and Formulas"
   ]
  },
  {
   "cell_type": "markdown",
   "metadata": {},
   "source": [
    "We will define a binomial model with 5 time periods. We will call the last time period $N$ and in the code will define $N = 5$."
   ]
  },
  {
   "cell_type": "code",
   "execution_count": 2,
   "metadata": {},
   "outputs": [],
   "source": [
    "N = 5"
   ]
  },
  {
   "cell_type": "markdown",
   "metadata": {},
   "source": [
    "We will define the initial stock price as $S_0 = 4$."
   ]
  },
  {
   "cell_type": "code",
   "execution_count": 3,
   "metadata": {},
   "outputs": [],
   "source": [
    "S_0 = 4"
   ]
  },
  {
   "cell_type": "markdown",
   "metadata": {},
   "source": [
    "We will define the initial wealth as $X_0 = 100$."
   ]
  },
  {
   "cell_type": "code",
   "execution_count": 4,
   "metadata": {},
   "outputs": [],
   "source": [
    "X_0 = 100"
   ]
  },
  {
   "cell_type": "markdown",
   "metadata": {},
   "source": [
    "The changes in stock price for a binomial model are determined by an imaginary coin flip which results in $H$ or $T$. If the result at time $n$ which we will call $\\omega_n$ is $H$ the stock price at time $n-1$ will be multiplied by the up factor $u$ and if $\\omega_n = T$ it will be muliplied by the down factor $d$. So, if $\\omega_n = H$ then $S_n = uS_{n-1}$ and if $\\omega_n = T$ then $S_n = dS_{n-1}$. We will define $u = 2$ and $d = \\frac{1}{2}$."
   ]
  },
  {
   "cell_type": "code",
   "execution_count": 5,
   "metadata": {},
   "outputs": [],
   "source": [
    "u = 2\n",
    "d = 1/2"
   ]
  },
  {
   "cell_type": "markdown",
   "metadata": {},
   "source": [
    "We will call the probability of $H$ as $p$ and the probability of $T$ as $q$. These will be defined as $p = \\frac{2}{3}$ and $q = \\frac{1}{3}$."
   ]
  },
  {
   "cell_type": "code",
   "execution_count": 6,
   "metadata": {},
   "outputs": [],
   "source": [
    "p = 2/3\n",
    "q = 1/3"
   ]
  },
  {
   "cell_type": "markdown",
   "metadata": {},
   "source": [
    "Interest which is assumed to be equal for borrowing and holding money is defined as $r = \\frac{1}{4}$."
   ]
  },
  {
   "cell_type": "code",
   "execution_count": 7,
   "metadata": {},
   "outputs": [],
   "source": [
    "r = 1/4"
   ]
  },
  {
   "cell_type": "markdown",
   "metadata": {},
   "source": [
    "Risk-neutral probabilities of $H$ and $T$ which are called $\\tilde{p}$ and $\\tilde{q}$ respectively will be calculated using the $u$, $d$ and $r$ values. The functions `risk_neutral_p` and `risk_neutral_q` are defined below."
   ]
  },
  {
   "cell_type": "code",
   "execution_count": 8,
   "metadata": {},
   "outputs": [],
   "source": [
    "def risk_neutral_p(u, d, r):\n",
    "    return (1 + r - d) / (u - d)\n",
    "\n",
    "def risk_neutral_q(u, d, r):\n",
    "    return (u - 1 - r) / (u - d)\n",
    "\n",
    "rn_p = risk_neutral_p(u, d, r)\n",
    "rn_q = risk_neutral_p(u, d, r)"
   ]
  },
  {
   "cell_type": "markdown",
   "metadata": {},
   "source": [
    "The probability of event $\\omega$ based on regular probabilities will be called $\\mathbb{P}(\\omega)$ and based on risk-neutral probabilities it will be called $\\tilde{\\mathbb{P}}(\\omega)$. $\\textrm{The Radon-Nikod}\\acute{\\textrm{y}} \\textrm{m derivative of } \\tilde{\\mathbb{P}} \\textrm{ with respect to } \\mathbb{P}$ will thus be defined as $Z(\\omega) = \\frac{\\tilde{\\mathbb{P}}(\\omega)}{\\mathbb{P}(\\omega)}$."
   ]
  },
  {
   "cell_type": "code",
   "execution_count": 9,
   "metadata": {},
   "outputs": [],
   "source": [
    "def calc_Z(rn_P, P):\n",
    "    return rn_P / P"
   ]
  },
  {
   "cell_type": "markdown",
   "metadata": {},
   "source": [
    "The state price density corresponding to $\\omega$ at time $N$ will subseuqntly be defined as $\\zeta(\\omega) = \\frac{Z(\\omega)}{(1+r)^N}$."
   ]
  },
  {
   "cell_type": "code",
   "execution_count": 10,
   "metadata": {},
   "outputs": [],
   "source": [
    "def state_price_density(n, z, r):\n",
    "    return z / ((1+r)**n)"
   ]
  },
  {
   "cell_type": "markdown",
   "metadata": {},
   "source": [
    "## Utility"
   ]
  },
  {
   "cell_type": "markdown",
   "metadata": {},
   "source": [
    "A utility function is used to capture the tradeoff between risk and return. The utility function $U$ must be a strictly concave down nondecreasing function which can take the value $-\\infty$ but not the value $+\\infty$. A common utility function and what we will be using for this model is $\\ln(x)$. So $U(x) = \\ln(x)$ and $U'(x) = \\frac{1}{x}$ and the inverse of the derivative $I$ will be defuined as $I(y) = \\frac{1}{y}$."
   ]
  },
  {
   "cell_type": "code",
   "execution_count": 11,
   "metadata": {},
   "outputs": [],
   "source": [
    "import numpy as np\n",
    "\n",
    "def U(x):\n",
    "    return np.log(x)\n",
    "\n",
    "def dU(x):\n",
    "    return 1/x\n",
    "\n",
    "def I(y):\n",
    "    return 1/y"
   ]
  },
  {
   "cell_type": "markdown",
   "metadata": {},
   "source": [
    "The goal of this model will be to find an adapted portfolio process $\\:\\Delta_0,\\:\\Delta_1,\\:.\\:.\\:.\\:,\\Delta_{N - 1}\\:$, with $\\Delta_n$ being the amount of stock you should own at time $n$, that maximizes $\\:\\mathbb{E}U(X_N)$, the expected utility of the wealth at time $N$."
   ]
  },
  {
   "cell_type": "markdown",
   "metadata": {},
   "source": [
    "## Modelling"
   ]
  },
  {
   "cell_type": "markdown",
   "metadata": {},
   "source": [
    "I will start by creating a dictionary of all the possible stock prices over $5$ time periods. Next, I will create dictionaries of all the risk-neutral and regular probabilities of all the possible $H$ and $T$ combinations of length $N$. I will then get a dictionary of the $Z$ values. And, then I will make a dictionary of $\\zeta$ values."
   ]
  },
  {
   "cell_type": "code",
   "execution_count": 39,
   "metadata": {},
   "outputs": [
    {
     "data": {
      "text/plain": [
       "{'T': 1.2,\n",
       " 'H': 0.6,\n",
       " 'TT': 1.44,\n",
       " 'HT': 0.72,\n",
       " 'TH': 0.72,\n",
       " 'HH': 0.36,\n",
       " 'TTT': 1.728,\n",
       " 'THT': 0.864,\n",
       " 'TTH': 0.864,\n",
       " 'HTT': 0.864,\n",
       " 'HTH': 0.432,\n",
       " 'HHT': 0.432,\n",
       " 'THH': 0.432,\n",
       " 'HHH': 0.216,\n",
       " 'TTTT': 2.0736,\n",
       " 'HTTT': 1.0368,\n",
       " 'TTHT': 1.0368,\n",
       " 'TTTH': 1.0368,\n",
       " 'THTT': 1.0368,\n",
       " 'HTHT': 0.5184,\n",
       " 'TTHH': 0.5184,\n",
       " 'THHT': 0.5184,\n",
       " 'HTTH': 0.5184,\n",
       " 'THTH': 0.5184,\n",
       " 'HHTT': 0.5184,\n",
       " 'HTHH': 0.2592,\n",
       " 'HHTH': 0.2592,\n",
       " 'THHH': 0.2592,\n",
       " 'HHHT': 0.2592,\n",
       " 'HHHH': 0.1296,\n",
       " 'TTTTT': 2.4883200000000003,\n",
       " 'THTTT': 1.2441600000000002,\n",
       " 'TTHTT': 1.2441600000000002,\n",
       " 'HTTTT': 1.2441600000000002,\n",
       " 'TTTTH': 1.2441600000000002,\n",
       " 'TTTHT': 1.2441600000000002,\n",
       " 'TTTHH': 0.6220800000000001,\n",
       " 'HTTHT': 0.6220800000000001,\n",
       " 'HTHTT': 0.6220800000000001,\n",
       " 'THTTH': 0.6220800000000001,\n",
       " 'TTHHT': 0.6220800000000001,\n",
       " 'HTTTH': 0.6220800000000001,\n",
       " 'TTHTH': 0.6220800000000001,\n",
       " 'HHTTT': 0.6220800000000001,\n",
       " 'THHTT': 0.6220800000000001,\n",
       " 'THTHT': 0.6220800000000001,\n",
       " 'HTHHT': 0.31104000000000004,\n",
       " 'THTHH': 0.31104000000000004,\n",
       " 'HTTHH': 0.31104000000000004,\n",
       " 'HHTTH': 0.31104000000000004,\n",
       " 'THHHT': 0.31104000000000004,\n",
       " 'THHTH': 0.31104000000000004,\n",
       " 'TTHHH': 0.31104000000000004,\n",
       " 'HHHTT': 0.31104000000000004,\n",
       " 'HHTHT': 0.31104000000000004,\n",
       " 'HTHTH': 0.31104000000000004,\n",
       " 'HHTHH': 0.15552000000000002,\n",
       " 'THHHH': 0.15552000000000002,\n",
       " 'HHHTH': 0.15552000000000002,\n",
       " 'HHHHT': 0.15552000000000002,\n",
       " 'HTHHH': 0.15552000000000002,\n",
       " 'HHHHH': 0.07776000000000001}"
      ]
     },
     "execution_count": 39,
     "metadata": {},
     "output_type": "execute_result"
    }
   ],
   "source": [
    "from itertools import permutations\n",
    "\n",
    "def get_combinations(n):\n",
    "    combinations = []\n",
    "    for i in range(1, n+1):\n",
    "        for j in range(i + 1):\n",
    "            combo = 'H' * j + 'T' * (i - j)\n",
    "            combinations += list(set([''.join(p) for p in permutations(combo)]))\n",
    "    return combinations\n",
    "\n",
    "all_combinations = get_combinations(5)\n",
    "\n",
    "def get_S(combinations, S_0, u, d):\n",
    "    price_dict = {}\n",
    "    for combo in combinations:\n",
    "        new_price = S_0\n",
    "        for outcome in combo:\n",
    "            if outcome == 'H':\n",
    "                new_price *= u\n",
    "            elif outcome == 'T':\n",
    "                new_price *= d\n",
    "        price_dict[combo] = new_price\n",
    "    return price_dict\n",
    "\n",
    "all_prices = get_S(all_combinations, S_0, u, d)\n",
    "\n",
    "def get_P(combinations, p , q):\n",
    "    prob_dict = {}\n",
    "    for combo in combinations:\n",
    "        prob = 1\n",
    "        for outcome in combo:\n",
    "            if outcome == 'H':\n",
    "                prob *= p\n",
    "            elif outcome == 'T':\n",
    "                prob  *= q\n",
    "        prob_dict[combo] = prob\n",
    "    return prob_dict\n",
    "\n",
    "P = get_P(all_combinations, p, q)\n",
    "rn_P = get_P(all_combinations, rn_p, rn_q)\n",
    "\n",
    "def get_Z(risk_neutral, normal):\n",
    "    Z_dict = {}\n",
    "    for key in risk_neutral.keys():\n",
    "        Z_dict[key] = calc_Z(risk_neutral[key], normal[key])\n",
    "    return Z_dict\n",
    "\n",
    "Z = get_Z(rn_P, P)\n",
    "\n",
    "def get_SPD(z_dict, r):\n",
    "    spd_dict = {}\n",
    "    for key, value in z_dict.items():\n",
    "        spd_dict[key] = state_price_density(len(key), value, r)\n",
    "    return spd_dict\n",
    "\n",
    "SPD = get_SPD(Z, r)\n",
    "SPD"
   ]
  },
  {
   "cell_type": "markdown",
   "metadata": {},
   "source": [
    "$$ \\textrm{For this problem we will be using Lagragian Optimization. First, we will have to define each possible portfolio value as a dummy variable.} $$\n",
    "$$ x_1 = X_5(TTTTT)\\;\\;\\;\\;x_2 = X_5(TTTHT)\\;\\;\\;\\;x_3 = X_5(TTHTT)\\;\\;\\;\\;x_4 = X_5(THTTT)\\;\\;\\;\\;x_5 = X_5(HTTTT)\\;\\;\\;\\;x_6 = X_5(TTTTH)\\;\\;\\;\\;x_7 = X_5(THTTH)\\;\\;\\;\\;x_8 = X_5(THTHT)$$\n",
    "$$ x_9 = X_5(THHTT)\\;\\;\\;\\;x_{10} = X_5(HTTHT)\\;\\;\\;\\;x_{11} = X_5(TTHTH)\\;\\;\\;\\;x_{12} = X_5(HTTTH)\\;\\;\\;\\;x_{13} = X_5(HHTTT)\\;\\;\\;\\;x_{14} = X_5(TTHHT)\\;\\;\\;\\;x_{15} = X_5(TTTHH)\\;\\;\\;\\;x_{16} = X_5(HTHTT)$$\n",
    "$$ x_{17} = X_5(HTTHH)\\;\\;\\;\\;x_{18} = X_5(TTHHH)\\;\\;\\;\\;x_{19} = X_5(HHHTT)\\;\\;\\;\\;x_{20} = X_5(HHTTH)\\;\\;\\;\\;x_{21} = X_5(THTHH)\\;\\;\\;\\;x_{22} = X_5(HHTHT)\\;\\;\\;\\;x_{23} = X_5(THHTH)\\;\\;\\;\\;x_{24} = X_5(HTHTH)$$\n",
    "$$ x_{25} = X_5(THHHT)\\;\\;\\;\\;x_{26} = X_5(HTHHT)\\;\\;\\;\\;x_{27} = X_5(HHHHT)\\;\\;\\;\\;x_{28} = X_5(HHHTH)\\;\\;\\;\\;x_{29} = X_5(THHHH)\\;\\;\\;\\;x_{30} = X_5(HHTHH)\\;\\;\\;\\;x_{31} = X_5(HTHHH)\\;\\;\\;\\;x_{32} = X_5(HHHHH)$$\n",
    "$$ \\textrm{We will also define the normal probabilities of the } H \\textrm{ and } T \\textrm{ combiantions and the } \\zeta_5(\\omega_1, \\omega_2, \\:.\\:.\\:.\\:, \\omega_5) \\textrm{ values as corresponding dummy variables } p_m \\textrm{ and } \\zeta_m \\textrm{.}$$\n",
    "$$ \\textrm{As said above for this model we define } U(x) = \\ln x \\textrm{ and our goal is to maximize } \\mathbb{E}U(X_N)$$\n",
    "$$ \\textrm{Over } N \\textrm{ time periods the number of combinations can be defined as } M = 2^N \\textrm{ and in our case } M = 2^5 = 32 \\textrm{. So, the problem can be redefined as maximizing } \\;\\displaystyle\\sum_{m=1}^{32} p_mU(x_m)\\; \\textrm{ subject to } \\;\\displaystyle\\sum_{m=1}^{32} p_m\\zeta_mx_m = X_0 = 100\\textrm{.} $$\n",
    "$$ \\textrm{Consequantly we can write out the Lagragian for this problem as } \\;L = \\displaystyle\\sum_{m=1}^{32} p_mU(x_m) - \\lambda(\\,\\displaystyle\\sum_{m=1}^{32} p_m\\zeta_mx_m - 100)$$\n",
    "$$ \\textrm{The Lagrange mulitplier equations can then be written as } \\frac{\\partial}{\\partial x_m}L = p_mU'(x_m) - \\lambda p_m\\zeta_m = 0$$\n",
    "$$ \\textrm{This can then be simplified to } U'(x_m) = \\lambda \\zeta_m $$\n",
    "$$ \\textrm{We can then apply the inverse of } U' \\textrm{ to both sides in order to isolate } x_m \\textrm{ calling the inverse } I \\textrm{ and from that we obtain } x_m = I(\\lambda \\zeta_m) $$\n",
    "$$ \\textrm{Next, substituting back in for the dummy variables we can write this as } X_5 = I(\\lambda \\zeta_5) $$\n",
    "$$ \\textrm{And, using our previous definition of } I(y) = \\frac{1}{y} \\textrm{ this can again be rewritten as } X_5 = \\frac{1}{\\lambda \\zeta_5}. \\textrm{ This also could be applied over any general value in } n = 1, 2, \\:.\\:.\\:.\\:, N \\textrm{ as } X_n = \\frac{1}{\\lambda \\zeta_n}$$\n",
    "$$ \\textrm{Substituting this into the formula } \\mathbb{E}\\zeta_N X_N = X_0 \\textrm{ we obtain } \\mathbb{E}[\\frac{\\zeta_5}{\\lambda \\zeta_5}] = \\mathbb{E}[\\frac{1}{\\lambda}] = \\frac{1}{\\lambda} = X_0 = 100 \\;\\textrm{ so }\\; \\lambda = \\frac{1}{X_0} = \\frac{1}{100} $$"
   ]
  },
  {
   "cell_type": "code",
   "execution_count": 42,
   "metadata": {},
   "outputs": [
    {
     "data": {
      "text/plain": [
       "{'T': 83.33333333333333,\n",
       " 'H': 166.66666666666666,\n",
       " 'TT': 69.44444444444444,\n",
       " 'HT': 138.88888888888889,\n",
       " 'TH': 138.88888888888889,\n",
       " 'HH': 277.77777777777777,\n",
       " 'TTT': 57.87037037037037,\n",
       " 'THT': 115.74074074074073,\n",
       " 'TTH': 115.74074074074073,\n",
       " 'HTT': 115.74074074074073,\n",
       " 'HTH': 231.48148148148147,\n",
       " 'HHT': 231.48148148148147,\n",
       " 'THH': 231.48148148148147,\n",
       " 'HHH': 462.96296296296293,\n",
       " 'TTTT': 48.2253086419753,\n",
       " 'HTTT': 96.4506172839506,\n",
       " 'TTHT': 96.4506172839506,\n",
       " 'TTTH': 96.4506172839506,\n",
       " 'THTT': 96.4506172839506,\n",
       " 'HTHT': 192.9012345679012,\n",
       " 'TTHH': 192.9012345679012,\n",
       " 'THHT': 192.9012345679012,\n",
       " 'HTTH': 192.9012345679012,\n",
       " 'THTH': 192.9012345679012,\n",
       " 'HHTT': 192.9012345679012,\n",
       " 'HTHH': 385.8024691358024,\n",
       " 'HHTH': 385.8024691358024,\n",
       " 'THHH': 385.8024691358024,\n",
       " 'HHHT': 385.8024691358024,\n",
       " 'HHHH': 771.6049382716049,\n",
       " 'TTTTT': 40.187757201646086,\n",
       " 'THTTT': 80.37551440329217,\n",
       " 'TTHTT': 80.37551440329217,\n",
       " 'HTTTT': 80.37551440329217,\n",
       " 'TTTTH': 80.37551440329217,\n",
       " 'TTTHT': 80.37551440329217,\n",
       " 'TTTHH': 160.75102880658434,\n",
       " 'HTTHT': 160.75102880658434,\n",
       " 'HTHTT': 160.75102880658434,\n",
       " 'THTTH': 160.75102880658434,\n",
       " 'TTHHT': 160.75102880658434,\n",
       " 'HTTTH': 160.75102880658434,\n",
       " 'TTHTH': 160.75102880658434,\n",
       " 'HHTTT': 160.75102880658434,\n",
       " 'THHTT': 160.75102880658434,\n",
       " 'THTHT': 160.75102880658434,\n",
       " 'HTHHT': 321.5020576131687,\n",
       " 'THTHH': 321.5020576131687,\n",
       " 'HTTHH': 321.5020576131687,\n",
       " 'HHTTH': 321.5020576131687,\n",
       " 'THHHT': 321.5020576131687,\n",
       " 'THHTH': 321.5020576131687,\n",
       " 'TTHHH': 321.5020576131687,\n",
       " 'HHHTT': 321.5020576131687,\n",
       " 'HHTHT': 321.5020576131687,\n",
       " 'HTHTH': 321.5020576131687,\n",
       " 'HHTHH': 643.0041152263374,\n",
       " 'THHHH': 643.0041152263374,\n",
       " 'HHHTH': 643.0041152263374,\n",
       " 'HHHHT': 643.0041152263374,\n",
       " 'HTHHH': 643.0041152263374,\n",
       " 'HHHHH': 1286.0082304526748}"
      ]
     },
     "execution_count": 42,
     "metadata": {},
     "output_type": "execute_result"
    }
   ],
   "source": [
    "lmbda = 1/X_0\n",
    "\n",
    "def calc_weath(inverse, lmbda, spd):\n",
    "    return inverse(lmbda * spd)\n",
    "\n",
    "def get_wealth(inverse, lmbda, spd_dict):\n",
    "    wealth_dict = {}\n",
    "    for key, value in spd_dict.items():\n",
    "        wealth_dict[key] = calc_weath(inverse, lmbda, value)\n",
    "    return wealth_dict\n",
    "        \n",
    "wealth = get_wealth(I, lmbda, SPD)\n",
    "wealth"
   ]
  },
  {
   "cell_type": "markdown",
   "metadata": {},
   "source": [
    "$$ \\textrm{Lastly, to calculate the adapted portfolio processes we can use the recursive formula } \\Delta_{n - 1}(\\omega_1, \\omega_2, \\:.\\:.\\:.\\:, \\omega_{n-1}) = \\frac{X_n(\\omega_1, \\omega_2, \\:.\\:.\\:.\\:, \\omega_{n-1},H) - X_n(\\omega_1, \\omega_2, \\:.\\:.\\:.\\:, \\omega_{n-1},T)}{S_n(\\omega_1, \\omega_2, \\:.\\:.\\:.\\:, \\omega_{n-1},H) - S_n(\\omega_1, \\omega_2, \\:.\\:.\\:.\\:, \\omega_{n-1},T)}$$"
   ]
  },
  {
   "cell_type": "code",
   "execution_count": 48,
   "metadata": {},
   "outputs": [
    {
     "name": "stdout",
     "output_type": "stream",
     "text": [
      "∆(0) = 13.889  ∆(T) = 23.148  ∆(H) = 11.574  ∆(TT) = 38.58  ∆(HT) = 19.29  ∆(TH) = 19.29  ∆(HH) = 9.645  ∆(TTT) = 64.3  ∆(THT) = 32.15  ∆(TTH) = 32.15  \n",
      "∆(HTT) = 32.15  ∆(HTH) = 16.075  ∆(HHT) = 16.075  ∆(THH) = 16.075  ∆(HHH) = 8.038  ∆(TTTT) = 107.167  ∆(HTTT) = 53.584  ∆(TTHT) = 53.584  ∆(TTTH) = 53.584  ∆(THTT) = 53.584  \n",
      "∆(HTHT) = 26.792  ∆(TTHH) = 26.792  ∆(THHT) = 26.792  ∆(HTTH) = 26.792  ∆(THTH) = 26.792  ∆(HHTT) = 26.792  ∆(HTHH) = 13.396  ∆(HHTH) = 13.396  ∆(THHH) = 13.396  ∆(HHHT) = 13.396  ∆(HHHH) = 6.698  \n"
     ]
    }
   ],
   "source": [
    "def calc_delta(x_H, x_T, s_H, s_T):\n",
    "    return (x_H - x_T) / (s_H - s_T)\n",
    "\n",
    "def get_optimal_process(price_dict, wealth_dict):\n",
    "    process_dict = {}\n",
    "    process_dict['0'] = calc_delta(wealth_dict['H'], wealth_dict['T'], price_dict['H'], price_dict['T'])\n",
    "    for key in price_dict.keys():\n",
    "        if len(key) >= 5:\n",
    "            return process_dict\n",
    "        process_dict[key] = calc_delta(wealth_dict[key + 'H'], wealth_dict[key + 'T'], price_dict[key + 'H'], price_dict[key + 'T'])\n",
    "\n",
    "processes = get_optimal_process(all_prices, wealth)\n",
    "\n",
    "# Print everything neatly \n",
    "output_str = \"\"\n",
    "count = 0\n",
    "for key, value in processes.items():\n",
    "    count += 1\n",
    "    output_str += f\"∆({key}) = {round(value, 3)}  \"\n",
    "    if count % 10 == 0 and key != \"HHHT\":\n",
    "        print(output_str)\n",
    "        output_str = \"\"\n",
    "print(output_str)"
   ]
  }
 ],
 "metadata": {
  "kernelspec": {
   "display_name": "Python 3",
   "language": "python",
   "name": "python3"
  },
  "language_info": {
   "codemirror_mode": {
    "name": "ipython",
    "version": 3
   },
   "file_extension": ".py",
   "mimetype": "text/x-python",
   "name": "python",
   "nbconvert_exporter": "python",
   "pygments_lexer": "ipython3",
   "version": "3.12.4"
  }
 },
 "nbformat": 4,
 "nbformat_minor": 2
}

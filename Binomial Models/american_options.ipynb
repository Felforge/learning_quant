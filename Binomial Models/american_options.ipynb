{
 "cells": [
  {
   "cell_type": "markdown",
   "metadata": {},
   "source": [
    "# American Options"
   ]
  },
  {
   "cell_type": "markdown",
   "metadata": {},
   "source": [
    "This model will price and find the optimal stopping times of an **American Put Option** over a $5$ period binomial model with some abritarily decided constants."
   ]
  },
  {
   "cell_type": "markdown",
   "metadata": {},
   "source": [
    "## Defining Variables and Formulas"
   ]
  },
  {
   "cell_type": "markdown",
   "metadata": {},
   "source": [
    "We will define a $5$ period binomial model. The final time period will be called $N$ and we will define $N = 5$."
   ]
  },
  {
   "cell_type": "code",
   "execution_count": 1,
   "metadata": {},
   "outputs": [],
   "source": [
    "N = 5"
   ]
  },
  {
   "cell_type": "markdown",
   "metadata": {},
   "source": [
    "We will define the initial stock price as $S_0 = 4$."
   ]
  },
  {
   "cell_type": "code",
   "execution_count": 2,
   "metadata": {},
   "outputs": [],
   "source": [
    "S_0 = 4"
   ]
  },
  {
   "cell_type": "markdown",
   "metadata": {},
   "source": [
    "The changes in stock price for a binomial model are determined by an imaginary coin flip which results in $H$ or $T$. If the result at time $n$ which we will call $\\omega_n$ is $H$ the stock price at time $n-1$ will be multiplied by the up factor $u$ and if $\\omega_n = T$ it will be muliplied by the down factor $d$. So, if $\\omega_n = H$ then $S_n = uS_{n-1}$ and if $\\omega_n = T$ then $S_n = dS_{n-1}$. We will define $u = 2$ and $d = \\frac{1}{2}$."
   ]
  },
  {
   "cell_type": "code",
   "execution_count": 3,
   "metadata": {},
   "outputs": [],
   "source": [
    "u = 2\n",
    "d = 1/2"
   ]
  },
  {
   "cell_type": "markdown",
   "metadata": {},
   "source": [
    "Interest which is assumed to be equal for borrowing and holding money is defined as $r = \\frac{1}{4}$."
   ]
  },
  {
   "cell_type": "code",
   "execution_count": 4,
   "metadata": {},
   "outputs": [],
   "source": [
    "r = 1/4"
   ]
  },
  {
   "cell_type": "markdown",
   "metadata": {},
   "source": [
    "For calculating the price of the American Put Option we will use risk-neutral probabilities. The risk-neutral probability of the result of the coin flip at time $n$ to be $\\omega_n = H$ is $\\tilde{p}$ and the risk-neutral probability of $\\omega_n = T$ is $\\tilde{q}$. We define $\\tilde{p} = \\frac{1 + r - d}{u - d}$ and $\\tilde{q} = \\frac{u - 1 - r}{u - d}$."
   ]
  },
  {
   "cell_type": "code",
   "execution_count": 5,
   "metadata": {},
   "outputs": [],
   "source": [
    "def risk_neutral_p(u, d, r):\n",
    "    return (1 + r - d) / (u - d)\n",
    "\n",
    "def risk_neutral_q(u, d, r):\n",
    "    return (u - 1 - r) / (u - d)\n",
    "\n",
    "rn_p = risk_neutral_p(u, d, r)\n",
    "rn_q = risk_neutral_p(u, d, r)"
   ]
  },
  {
   "cell_type": "markdown",
   "metadata": {},
   "source": [
    "## Optimal Stopping Times"
   ]
  },
  {
   "cell_type": "markdown",
   "metadata": {},
   "source": [
    "### Explanation"
   ]
  },
  {
   "cell_type": "markdown",
   "metadata": {},
   "source": [
    "$$ \\textrm{First, we will define } n \\textrm{ an arbitrary time in } n = 1, 2, \\:.\\:.\\:.\\:, N \\textrm{ with } N = 5$$\n",
    "$$ \\textrm{We will define the stock price at time } n \\textrm{ as } S_n \\textrm{ and strike price as } K$$\n",
    "$$ \\textrm{The value of the option if the option is exercised at time n is defined as } G_n = K - S_n $$\n",
    "$$ \\textrm{The option value at time } n \\textrm{ is defined as } V_n = \\mathrm{max}\\{G_n, \\; \\tilde{\\mathbb{E}}[V_{n+1}]\\}$$\n",
    "$$ \\textrm{To define optimal stopping times we use the following formula: } \\tau^* = \\mathrm{min}\\{n; \\; V_n = G_n\\}$$\n",
    "$$ \\textrm{Thus, the problem can be redefined as } \\tau^* = \\mathrm{min}\\{n; \\; G_n \\geq \\tilde{\\mathbb{E}}[V_{n+1}]\\}$$\n",
    "$$ \\textrm{We will have to go down every branch of the binomial tree until this condition is met.}$$\n",
    "$$ \\textrm{If this condition is not met we will define } \\tau_n(\\omega_1, \\omega_2, \\:.\\:.\\:.\\:, \\omega_N) = \\infty \\textrm{ and the option will never be exercised.}$$\n",
    "$$ \\textrm{Stop times also cannot use future information so if } \\tau_n(\\omega_1, \\omega_2, \\:.\\:.\\:.\\:, \\omega_{n-1}, H) = 2 \\textrm{ then } \\tau_n(\\omega_1, \\omega_2, \\:.\\:.\\:.\\:, \\omega_{n-1}, T) = 2 \\textrm{ must also be true.}$$\n",
    "$$ \\textrm{Once we get the optimal stopping times pricing the option will be a very straightforward process.}$$"
   ]
  },
  {
   "cell_type": "markdown",
   "metadata": {},
   "source": [
    "### Code"
   ]
  },
  {
   "cell_type": "markdown",
   "metadata": {},
   "source": [
    "First, I will make a function to get all $H$ and $T$ combinations of length $N$. I will reverse the list of combinations as we will need to work backwards."
   ]
  },
  {
   "cell_type": "code",
   "execution_count": 13,
   "metadata": {},
   "outputs": [],
   "source": [
    "from itertools import permutations\n",
    "\n",
    "def get_combinations(n):\n",
    "    combinations = []\n",
    "    for i in range(1, n+1):\n",
    "        for j in range(i + 1):\n",
    "            combo = 'H' * j + 'T' * (i - j)\n",
    "            combinations += list(set([''.join(p) for p in permutations(combo)]))\n",
    "    return combinations\n",
    "\n",
    "all_combinations = list(reversed(get_combinations(N)))"
   ]
  }
 ],
 "metadata": {
  "kernelspec": {
   "display_name": "Python 3",
   "language": "python",
   "name": "python3"
  },
  "language_info": {
   "codemirror_mode": {
    "name": "ipython",
    "version": 3
   },
   "file_extension": ".py",
   "mimetype": "text/x-python",
   "name": "python",
   "nbconvert_exporter": "python",
   "pygments_lexer": "ipython3",
   "version": "3.12.4"
  }
 },
 "nbformat": 4,
 "nbformat_minor": 2
}

{
 "cells": [
  {
   "cell_type": "markdown",
   "metadata": {},
   "source": [
    "# American Options"
   ]
  },
  {
   "cell_type": "markdown",
   "metadata": {},
   "source": [
    "This model will price and find the optimal stopping times of an **American Put Option** over a $5$ period binomial model with some abritarily decided constants."
   ]
  },
  {
   "cell_type": "markdown",
   "metadata": {},
   "source": [
    "## Defining Variables and Formulas"
   ]
  },
  {
   "cell_type": "markdown",
   "metadata": {},
   "source": [
    "We will define a $5$ period binomial model. The final time period will be called $N$ and we will define $N = 5$."
   ]
  },
  {
   "cell_type": "code",
   "execution_count": 1,
   "metadata": {},
   "outputs": [],
   "source": [
    "N = 5"
   ]
  },
  {
   "cell_type": "markdown",
   "metadata": {},
   "source": [
    "We will define the initial stock price as $S_0 = 4$."
   ]
  },
  {
   "cell_type": "code",
   "execution_count": 2,
   "metadata": {},
   "outputs": [],
   "source": [
    "S_0 = 4"
   ]
  },
  {
   "cell_type": "markdown",
   "metadata": {},
   "source": [
    "The changes in stock price for a binomial model are determined by an imaginary coin flip which results in $H$ or $T$. If the result at time $n$ which we will call $\\omega_n$ is $H$ the stock price at time $n-1$ will be multiplied by the up factor $u$ and if $\\omega_n = T$ it will be muliplied by the down factor $d$. So, if $\\omega_n = H$ then $S_n = uS_{n-1}$ and if $\\omega_n = T$ then $S_n = dS_{n-1}$. We will define $u = 2$ and $d = \\frac{1}{2}$."
   ]
  },
  {
   "cell_type": "code",
   "execution_count": 3,
   "metadata": {},
   "outputs": [],
   "source": [
    "u = 2\n",
    "d = 1/2"
   ]
  },
  {
   "cell_type": "markdown",
   "metadata": {},
   "source": [
    "Interest which is assumed to be equal for borrowing and holding money is defined as $r = \\frac{1}{4}$."
   ]
  },
  {
   "cell_type": "code",
   "execution_count": 4,
   "metadata": {},
   "outputs": [],
   "source": [
    "r = 1/4"
   ]
  },
  {
   "cell_type": "markdown",
   "metadata": {},
   "source": [
    "For calculating the price of the American Put Option we will use risk-neutral probabilities. The risk-neutral probability of the result of the coin flip at time $n$ to be $\\omega_n = H$ is $\\tilde{p}$ and the risk-neutral probability of $\\omega_n = T$ is $\\tilde{q}$. We define $\\tilde{p} = \\frac{1 + r - d}{u - d}$ and $\\tilde{q} = \\frac{u - 1 - r}{u - d}$."
   ]
  },
  {
   "cell_type": "code",
   "execution_count": 5,
   "metadata": {},
   "outputs": [],
   "source": [
    "def risk_neutral_p(u, d, r):\n",
    "    return (1 + r - d) / (u - d)\n",
    "\n",
    "def risk_neutral_q(u, d, r):\n",
    "    return (u - 1 - r) / (u - d)\n",
    "\n",
    "rn_p = risk_neutral_p(u, d, r)\n",
    "rn_q = risk_neutral_p(u, d, r)"
   ]
  },
  {
   "cell_type": "markdown",
   "metadata": {},
   "source": [
    "We also need to define a strike price for the option which we will define as $K = 5$."
   ]
  },
  {
   "cell_type": "code",
   "execution_count": 6,
   "metadata": {},
   "outputs": [],
   "source": [
    "K = 5"
   ]
  },
  {
   "cell_type": "markdown",
   "metadata": {},
   "source": [
    "## Pricing and Optimal Stopping Times"
   ]
  },
  {
   "cell_type": "markdown",
   "metadata": {},
   "source": [
    "### Explanation"
   ]
  },
  {
   "cell_type": "markdown",
   "metadata": {},
   "source": [
    "$$ \\textrm{First, we will define } n \\textrm{ an arbitrary time in } n = 1, 2, \\:.\\:.\\:.\\:, N \\textrm{ with } N = 5$$\n",
    "$$ \\textrm{We will define the stock price at time } n \\textrm{ as } S_n \\textrm{ and strike price as } K$$\n",
    "$$ \\textrm{The value of the option if the option is exercised at time n is defined as } G_n = K - S_n $$\n",
    "$$ \\textrm{The option value at time } n \\textrm{ is defined as } V_n = \\mathrm{max}\\{G_n, \\; \\tilde{\\mathbb{E}}[V_{n+1}]\\}$$\n",
    "$$ \\textrm{To define optimal stopping times we use the following formula: } \\tau^* = \\mathrm{min}\\{n; \\; V_n = G_n\\}$$\n",
    "$$ \\textrm{Thus, the problem can be redefined as } \\tau^* = \\mathrm{min}\\{n; \\; G_n \\geq \\tilde{\\mathbb{E}}[V_{n+1}]\\}$$\n",
    "$$ \\textrm{We will have to go down every branch of the binomial tree until this condition is met.}$$\n",
    "$$ \\textrm{If this condition is not met we will define } \\tau_n(\\omega_1, \\omega_2, \\:.\\:.\\:.\\:, \\omega_N) = \\infty \\textrm{ and the option will never be exercised.}$$\n",
    "$$ \\textrm{Stop times also cannot use future information so if } \\tau_n(\\omega_1, \\omega_2, \\:.\\:.\\:.\\:, \\omega_{n-1}, H) = 2 \\textrm{ then } \\tau_n(\\omega_1, \\omega_2, \\:.\\:.\\:.\\:, \\omega_{n-1}, T) = 2 \\textrm{ must also be true.}$$"
   ]
  },
  {
   "cell_type": "markdown",
   "metadata": {},
   "source": [
    "### Code"
   ]
  },
  {
   "cell_type": "markdown",
   "metadata": {},
   "source": [
    "First, I will make a function to get all $H$ and $T$ combinations of length $N$. I will reverse the list of combinations as we will need to work backwards."
   ]
  },
  {
   "cell_type": "code",
   "execution_count": 7,
   "metadata": {},
   "outputs": [],
   "source": [
    "from itertools import permutations\n",
    "\n",
    "def get_combinations(n):\n",
    "    combinations = []\n",
    "    for i in range(1, n+1):\n",
    "        for j in range(i + 1):\n",
    "            combo = 'H' * j + 'T' * (i - j)\n",
    "            combinations += list(set([''.join(p) for p in permutations(combo)]))\n",
    "    return combinations\n",
    "\n",
    "all_combinations = list(reversed(get_combinations(N)))"
   ]
  },
  {
   "cell_type": "markdown",
   "metadata": {},
   "source": [
    "Next, I will create a function `G` which will represent the equation $K - S_n$."
   ]
  },
  {
   "cell_type": "code",
   "execution_count": 8,
   "metadata": {},
   "outputs": [],
   "source": [
    "def G(stock_price, strike_price):\n",
    "    return strike_price - stock_price"
   ]
  },
  {
   "cell_type": "markdown",
   "metadata": {},
   "source": [
    "After that, I will create a function `expected_price` that will get the expected price of an asset in the next time period and then I will create a function `optimal_time_condition` which will represent the condition $\\mathrm{max}\\{G_n, \\; \\tilde{\\mathbb{E}}[V_{n+1}]\\} = \\mathrm{max}\\{G_n, \\; \\frac{\\tilde{p}V_{n+1}(uS_n) + \\tilde{q}V_{n+1}(dS_n)}{1 + r}\\}$ which is needed for finding the optimal stopping time."
   ]
  },
  {
   "cell_type": "code",
   "execution_count": 9,
   "metadata": {},
   "outputs": [],
   "source": [
    "def expected_price(r, rn_p, rn_q, H_price, T_price):\n",
    "    return (rn_p * H_price + rn_q * T_price) / (1 + r)\n",
    "\n",
    "def optimal_time_condition(r, rn_p, rn_q, H_option_price, T_option_price, G):\n",
    "    return max(G, expected_price(r, rn_p, rn_q, H_option_price, T_option_price))"
   ]
  },
  {
   "cell_type": "markdown",
   "metadata": {},
   "source": [
    "Next, I will create a function `price_option` that will price all the possible option outcomes and get a price at time $0$. I will define $V_5 = \\mathrm{max}\\{G_n, 0\\}$ for the price at expiration. It will also return a dictionary of intrinsic values so that I can later calculate the optimal stopping times."
   ]
  },
  {
   "cell_type": "code",
   "execution_count": 10,
   "metadata": {},
   "outputs": [],
   "source": [
    "def price_option(N, S_0, u, d, rn_p, rn_q, strike_price, all_combinations):\n",
    "    price_dict = {}\n",
    "    intrinsic_dict = {}\n",
    "    for combo in all_combinations:\n",
    "        new_price = S_0 * u**combo.count('H') * d**combo.count('T')\n",
    "        if len(combo) == N:\n",
    "            price_dict[combo] = max(G(new_price, strike_price), 0)\n",
    "            intrinsic_dict[combo] = G(new_price, strike_price)\n",
    "            continue\n",
    "        price_dict[combo] = optimal_time_condition(r, rn_p, rn_q, price_dict[combo + 'H'], price_dict[combo + 'T'], G(new_price, strike_price))\n",
    "        intrinsic_dict[combo] = G(new_price, strike_price)\n",
    "    price_dict['0'] = optimal_time_condition(r, rn_p, rn_q, price_dict['H'], price_dict['T'], G(S_0, strike_price))\n",
    "    intrinsic_dict['0'] = G(S_0, strike_price)\n",
    "    return price_dict, intrinsic_dict\n",
    "\n",
    "all_prices, all_intrinsic = price_option(N, S_0, u, d, rn_p, rn_q, K, all_combinations)"
   ]
  },
  {
   "cell_type": "markdown",
   "metadata": {},
   "source": [
    "Now, we have a value for $V_0$, a time zero price for our American Put Option."
   ]
  },
  {
   "cell_type": "code",
   "execution_count": 11,
   "metadata": {},
   "outputs": [
    {
     "data": {
      "text/plain": [
       "1.45344"
      ]
     },
     "execution_count": 11,
     "metadata": {},
     "output_type": "execute_result"
    }
   ],
   "source": [
    "all_prices['0']"
   ]
  },
  {
   "cell_type": "markdown",
   "metadata": {},
   "source": [
    "Next, I will create a function `get_stopping_times` that will output a dictionary containing the stopping times for each $H$ and $T$ combination. I will represent $\\infty$ as `None` in the dictionary. The function will simply return $0$ if it is optimal to exercise the option at time $0$ and not hold it. Only stopping times for combinations of length $N$ will be given."
   ]
  },
  {
   "cell_type": "code",
   "execution_count": 18,
   "metadata": {},
   "outputs": [
    {
     "name": "stdout",
     "output_type": "stream",
     "text": [
      "['T', 'TT', 'TTT', 'THT', 'HTT', 'TTH', 'TTTT', 'THTT', 'TTHT', 'HTTT', 'TTTH', 'TTTTT', 'TTTTH', 'THTTT', 'HTTTT', 'TTTHT', 'TTHTT', 'HTHTT', 'HHTTT', 'THTTH', 'HTTTH', 'THHTT', 'THTHT', 'TTHHT', 'TTHTH', 'HTTHT', 'TTTHH']\n"
     ]
    },
    {
     "data": {
      "text/plain": [
       "{'TTTTT': 1,\n",
       " 'TTTTH': 1,\n",
       " 'THTTT': 1,\n",
       " 'HTTTT': 3,\n",
       " 'TTTHT': 1,\n",
       " 'TTHTT': 1,\n",
       " 'HTHTT': 5,\n",
       " 'HHTTT': 5,\n",
       " 'THTTH': 1,\n",
       " 'HTTTH': 3,\n",
       " 'THHTT': 1,\n",
       " 'THTHT': 1,\n",
       " 'TTHHT': 1,\n",
       " 'TTHTH': 1,\n",
       " 'HTTHT': 3,\n",
       " 'TTTHH': 1,\n",
       " 'HHHTT': None,\n",
       " 'HHTTH': None,\n",
       " 'HTHTH': None,\n",
       " 'HTHHT': None,\n",
       " 'THHTH': 1,\n",
       " 'THHHT': 1,\n",
       " 'HTTHH': 3,\n",
       " 'THTHH': 1,\n",
       " 'HHTHT': None,\n",
       " 'TTHHH': 1,\n",
       " 'HHTHH': None,\n",
       " 'HHHHT': None,\n",
       " 'HTHHH': None,\n",
       " 'HHHTH': None,\n",
       " 'THHHH': 1,\n",
       " 'HHHHH': None}"
      ]
     },
     "execution_count": 18,
     "metadata": {},
     "output_type": "execute_result"
    }
   ],
   "source": [
    "def get_stopping_times(N, prices, intrinsic_values):\n",
    "    stopping_points = []\n",
    "    stopping_times = {}\n",
    "    for combo in reversed(prices.keys()):\n",
    "        if prices[combo] == intrinsic_values[combo]:\n",
    "            if combo == '0':\n",
    "                return 0\n",
    "            stopping_points.append(combo)\n",
    "        if len(combo) == N:\n",
    "            stopping_times[combo] = None\n",
    "            part_combo = \"\"\n",
    "            for char in combo:\n",
    "                part_combo += char\n",
    "                if part_combo in stopping_points:\n",
    "                    stopping_times[combo] = len(part_combo)\n",
    "                    break\n",
    "    print(stopping_points)\n",
    "    return stopping_times\n",
    "                \n",
    "            \n",
    "                \n",
    "            \n",
    "\n",
    "get_stopping_times(N, all_prices, all_intrinsic)"
   ]
  },
  {
   "cell_type": "markdown",
   "metadata": {},
   "source": [
    "And below we can see the optimal stopping time for each $H$ and $T$ combination."
   ]
  }
 ],
 "metadata": {
  "kernelspec": {
   "display_name": "Python 3",
   "language": "python",
   "name": "python3"
  },
  "language_info": {
   "codemirror_mode": {
    "name": "ipython",
    "version": 3
   },
   "file_extension": ".py",
   "mimetype": "text/x-python",
   "name": "python",
   "nbconvert_exporter": "python",
   "pygments_lexer": "ipython3",
   "version": "3.12.4"
  }
 },
 "nbformat": 4,
 "nbformat_minor": 2
}

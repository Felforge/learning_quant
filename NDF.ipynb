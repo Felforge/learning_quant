{
 "cells": [
  {
   "cell_type": "markdown",
   "metadata": {},
   "source": [
    "## Normal Distribution Function"
   ]
  },
  {
   "cell_type": "markdown",
   "metadata": {},
   "source": [
    "### Setup"
   ]
  },
  {
   "cell_type": "code",
   "execution_count": 1,
   "metadata": {},
   "outputs": [
    {
     "name": "stdout",
     "output_type": "stream",
     "text": [
      "Requirement already satisfied: numpy in /Library/Frameworks/Python.framework/Versions/3.10/lib/python3.10/site-packages (1.22.4)\n",
      "Requirement already satisfied: scipy in /Library/Frameworks/Python.framework/Versions/3.10/lib/python3.10/site-packages (1.12.0)\n",
      "Note: you may need to restart the kernel to use updated packages.\n"
     ]
    }
   ],
   "source": [
    "%pip install numpy scipy"
   ]
  },
  {
   "cell_type": "markdown",
   "metadata": {},
   "source": [
    "### Calculation"
   ]
  },
  {
   "cell_type": "markdown",
   "metadata": {},
   "source": [
    "$$ \\textrm{The Normal Distribution Function or } \\mathrm{N} \\textrm{ can be defined as:}$$\n",
    "$$ \\mathrm{N} (x) = \\frac{1}{\\sqrt{2\\pi}}\\int_{-\\infty}^x e^{-z^2/2} dz$$\n",
    "$$ \\textrm{I will define this function below}"
   ]
  },
  {
   "cell_type": "code",
   "execution_count": 2,
   "metadata": {},
   "outputs": [],
   "source": [
    "import numpy as np\n",
    "from numpy import pi\n",
    "import scipy.integrate as integrate\n",
    "\n",
    "def integrand(z):\n",
    "    exponent = (z**2) / -2\n",
    "    return np.e**exponent\n",
    "\n",
    "def ndf(x, integrand=integrand):\n",
    "    multiple = 1 / np.sqrt(2 * pi)\n",
    "    I = integrate.quad(integrand, -np.inf, x)\n",
    "    return I[0] * multiple"
   ]
  },
  {
   "cell_type": "markdown",
   "metadata": {},
   "source": [
    "$$ \\textrm{I will showcase the Normal Distribution Function by calculating option Delta}$$\n",
    "$$ \\textrm{I will do this using the Black–Scholes model}$$\n",
    "$$ \\textrm{I will define } \\Delta_{\\mathrm{Call}} = \\mathrm{N}(d_+) \\textrm{ and } \\Delta_{\\mathrm{Put}} = \\mathrm{N}(d_+) - 1$$\n",
    "$$ \\textrm{We then define } d_+ = \\frac{1}{\\sigma\\sqrt{\\tau}}[\\mathrm{ln}(\\frac{S_t}{K}) + \\tau(r + \\frac{\\sigma^2}{2})]$$\n",
    "$$ \\textrm{Volatility is } \\sigma \\textrm{, time to maturity in years is } \\tau \\textrm{, stock price at time } t \\textrm{ is } S_t$$\n",
    "$$ \\textrm{Option strike price is } K \\textrm{, and risk-free interest rate is } r$$\n",
    "$$ \\textrm{I will define } d_+ \\textrm{ below as } d$$"
   ]
  },
  {
   "cell_type": "code",
   "execution_count": 3,
   "metadata": {},
   "outputs": [],
   "source": [
    "def d(S, K, r, sigma, tau):\n",
    "    multiple = 1 / (sigma * np.sqrt(tau))\n",
    "    first_term = np.log(S / K)\n",
    "    second_term = tau * (r + ((sigma**2) / 2))\n",
    "    return multiple * (first_term + second_term)"
   ]
  },
  {
   "cell_type": "markdown",
   "metadata": {},
   "source": [
    "$$ \\textrm{Now, we can define } \\Delta_{\\mathrm{Call}} \\textrm{ and } \\Delta_{\\mathrm{Put}}$$"
   ]
  },
  {
   "cell_type": "code",
   "execution_count": 4,
   "metadata": {},
   "outputs": [],
   "source": [
    "def delta_call(S, K, r, sigma, tau, d=d, ndf=ndf):\n",
    "    d_value = d(S, K, r, sigma, tau)\n",
    "    delta = ndf(d_value)\n",
    "    return delta\n",
    "\n",
    "def delta_put(S, K, r, sigma, tau, d=d, ndf=ndf):\n",
    "    return delta_call(S, K, r, sigma, tau, d=d, ndf=ndf) - 1"
   ]
  },
  {
   "cell_type": "markdown",
   "metadata": {},
   "source": [
    "$$ \\textrm{Now I will set some arbitrary values and test it out}$$"
   ]
  },
  {
   "cell_type": "code",
   "execution_count": 18,
   "metadata": {},
   "outputs": [
    {
     "data": {
      "text/plain": [
       "0.7078863911448485"
      ]
     },
     "execution_count": 18,
     "metadata": {},
     "output_type": "execute_result"
    }
   ],
   "source": [
    "S = 71.83\n",
    "K = 75\n",
    "r = 0.03716\n",
    "sigma = 4.03\n",
    "tau = 1/12\n",
    "\n",
    "delta_call(S, K, r, sigma, tau)\n",
    "#delta_put(S, K, r, sigma, tau)"
   ]
  }
 ],
 "metadata": {
  "kernelspec": {
   "display_name": "Python 3",
   "language": "python",
   "name": "python3"
  },
  "language_info": {
   "codemirror_mode": {
    "name": "ipython",
    "version": 3
   },
   "file_extension": ".py",
   "mimetype": "text/x-python",
   "name": "python",
   "nbconvert_exporter": "python",
   "pygments_lexer": "ipython3",
   "version": "3.10.4"
  }
 },
 "nbformat": 4,
 "nbformat_minor": 2
}
